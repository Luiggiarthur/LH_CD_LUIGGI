{
 "cells": [
  {
   "cell_type": "code",
   "execution_count": null,
   "id": "c674c1be",
   "metadata": {
    "id": "RLqSymFYqyoa"
   },
   "outputs": [],
   "source": [
    "import numpy as np\n",
    "import pandas as pd\n",
    "import seaborn as sns\n",
    "import matplotlib.pyplot as plt"
   ]
  },
  {
   "cell_type": "code",
   "execution_count": null,
   "id": "be83f1b7",
   "metadata": {
    "id": "xssQ4JS_rC1s"
   },
   "outputs": [],
   "source": [
    "df = pd.read_csv(\"teste_indicium_precificacao.csv\")"
   ]
  },
  {
   "cell_type": "code",
   "execution_count": null,
   "id": "4b0d2616",
   "metadata": {
    "colab": {
     "base_uri": "https://localhost:8080/",
     "height": 417
    },
    "id": "diPyYJ3-rSs8",
    "outputId": "45b21e78-ff82-48bd-f1a1-a1ee13ff25c4"
   },
   "outputs": [],
   "source": [
    "df.head()"
   ]
  },
  {
   "cell_type": "markdown",
   "id": "c55e23e8",
   "metadata": {
    "id": "bQF0gdgvfmb6"
   },
   "source": [
    "# Análise exploratória dos dados"
   ]
  },
  {
   "cell_type": "markdown",
   "id": "9fa6b855",
   "metadata": {},
   "source": [
    "O dataframe possui algumas linhas em branco que serão tratadas mais à frente"
   ]
  },
  {
   "cell_type": "code",
   "execution_count": null,
   "id": "9047556e",
   "metadata": {
    "colab": {
     "base_uri": "https://localhost:8080/"
    },
    "id": "K7apmELMrVTL",
    "outputId": "03b525a9-4e58-4bb2-d59a-aac0cf39eb62"
   },
   "outputs": [],
   "source": [
    "df.info()"
   ]
  },
  {
   "cell_type": "code",
   "execution_count": null,
   "id": "965ea54f",
   "metadata": {},
   "outputs": [],
   "source": [
    "df.describe()"
   ]
  },
  {
   "cell_type": "markdown",
   "id": "7abbe2db",
   "metadata": {},
   "source": [
    "### Vê-se que disponibilidade_365 e calculado_host_listings_count possuem maior correlação com o valor"
   ]
  },
  {
   "cell_type": "code",
   "execution_count": null,
   "id": "eca80eeb",
   "metadata": {
    "colab": {
     "base_uri": "https://localhost:8080/"
    },
    "id": "QpCGTXaSrVb5",
    "outputId": "7925b916-d238-4f30-c347-4a94749fe870"
   },
   "outputs": [],
   "source": [
    "df.corr()['price'].sort_values()"
   ]
  },
  {
   "cell_type": "code",
   "execution_count": null,
   "id": "90f1f715",
   "metadata": {
    "colab": {
     "base_uri": "https://localhost:8080/",
     "height": 238
    },
    "id": "ZkQrE0D-frA0",
    "outputId": "5695afaf-1981-4595-8568-450eb4246f1c"
   },
   "outputs": [],
   "source": [
    "grouped = df[['bairro_group','price','reviews_por_mes']].groupby('bairro_group').mean().sort_values('price',ascending= False )\n",
    "grouped.head()"
   ]
  },
  {
   "cell_type": "code",
   "execution_count": null,
   "id": "2ef806e1",
   "metadata": {
    "colab": {
     "base_uri": "https://localhost:8080/",
     "height": 238
    },
    "id": "vjH6HI9VfrDD",
    "outputId": "95317c92-a672-4051-d561-e2300f95f3fa"
   },
   "outputs": [],
   "source": [
    "bairro = df[['bairro','price','reviews_por_mes']].groupby('bairro').mean().sort_values('price',ascending= False )\n",
    "bairro.head()"
   ]
  },
  {
   "cell_type": "code",
   "execution_count": null,
   "id": "150452f1",
   "metadata": {
    "colab": {
     "base_uri": "https://localhost:8080/",
     "height": 238
    },
    "id": "dXK5UwTnfrIF",
    "outputId": "bf20bc85-2eed-4600-be91-bc61e4586e9f"
   },
   "outputs": [],
   "source": [
    "bairro = df[['bairro','price','reviews_por_mes']].groupby('bairro').mean().sort_values('reviews_por_mes',ascending= False )\n",
    "bairro.tail()"
   ]
  },
  {
   "cell_type": "code",
   "execution_count": null,
   "id": "efede205",
   "metadata": {
    "colab": {
     "base_uri": "https://localhost:8080/",
     "height": 529
    },
    "id": "atwrZJANfrKf",
    "outputId": "f491b44b-d0b9-4ccb-f229-a6c62c9dbdf9"
   },
   "outputs": [],
   "source": [
    "sns.pairplot(bairro)"
   ]
  },
  {
   "cell_type": "code",
   "execution_count": null,
   "id": "aa3ea1ee",
   "metadata": {
    "colab": {
     "base_uri": "https://localhost:8080/"
    },
    "id": "rrqfEZc2qMgU",
    "outputId": "4cdea76c-59d6-4807-9d16-6c2a0b28ab71"
   },
   "outputs": [],
   "source": [
    "bairro.info()"
   ]
  },
  {
   "cell_type": "code",
   "execution_count": null,
   "id": "b9e2ae55",
   "metadata": {
    "id": "ZtUVj9woqMjN"
   },
   "outputs": [],
   "source": [
    "bairro['valor'] = bairro['price']*bairro['reviews_por_mes']"
   ]
  },
  {
   "cell_type": "markdown",
   "id": "5b55a603",
   "metadata": {},
   "source": [
    "## Supondo que uma pessoa esteja pensando em investir em um apartamento para alugar na plataforma, onde seria mais indicada a compra?\n",
    "\n",
    "Avaliando o preço por noite e considerando que o numero de reviewsd condiz com o número de noites alugadas podemos supor que\n",
    "Prince's Bay é local mais lucrativo para aluguéis."
   ]
  },
  {
   "cell_type": "code",
   "execution_count": null,
   "id": "a904aafb",
   "metadata": {
    "colab": {
     "base_uri": "https://localhost:8080/",
     "height": 238
    },
    "id": "SKb9gDNLqMz0",
    "outputId": "4ebfa866-08cd-49b5-dfec-a6670b47a4b9"
   },
   "outputs": [],
   "source": [
    "bairro = bairro.groupby('bairro').mean().sort_values('valor',ascending= False )\n",
    "bairro.head()"
   ]
  },
  {
   "cell_type": "markdown",
   "id": "fa17e631",
   "metadata": {
    "id": "chlIc-2d0StU"
   },
   "source": [
    "## O número mínimo de noites e a disponibilidade ao longo do ano interferem no preço?\n",
    "Mínimo de noites e disponibilidade interferem menos de 10% no preço final:"
   ]
  },
  {
   "cell_type": "code",
   "execution_count": null,
   "id": "eff0ca2f",
   "metadata": {
    "colab": {
     "base_uri": "https://localhost:8080/",
     "height": 143
    },
    "id": "evC6h7A2ofoq",
    "outputId": "bac844f5-985c-43b7-d812-ef955ea69aa4"
   },
   "outputs": [],
   "source": [
    "df[['price','disponibilidade_365', 'minimo_noites']].corr()"
   ]
  },
  {
   "cell_type": "markdown",
   "id": "56d92a2e",
   "metadata": {
    "id": "_uZzXIpEe9Nq"
   },
   "source": [
    "Tratando dados faltantes"
   ]
  },
  {
   "cell_type": "code",
   "execution_count": null,
   "id": "553a62e3",
   "metadata": {
    "id": "ovyt2D_yrVkn"
   },
   "outputs": [],
   "source": [
    "def percent_missing(df):\n",
    "    percent_nan = 100 * df.isnull().sum() / len(df)\n",
    "    percent_nan = percent_nan[percent_nan > 0].sort_values()\n",
    "\n",
    "    return percent_nan"
   ]
  },
  {
   "cell_type": "code",
   "execution_count": null,
   "id": "5ea7bbad",
   "metadata": {
    "colab": {
     "base_uri": "https://localhost:8080/"
    },
    "id": "On5n-UbxrVsV",
    "outputId": "2f078391-f2c2-4d23-c539-97375497fe0e"
   },
   "outputs": [],
   "source": [
    "percent_nan = percent_missing(df)\n",
    "percent_nan"
   ]
  },
  {
   "cell_type": "code",
   "execution_count": null,
   "id": "ae6c5d1e",
   "metadata": {
    "colab": {
     "base_uri": "https://localhost:8080/",
     "height": 555
    },
    "id": "gSLBmOunIsD_",
    "outputId": "e2bf3cad-e50d-466d-cb3c-48b34c59c0eb"
   },
   "outputs": [],
   "source": [
    "sns.barplot(x=percent_nan.index,y=percent_nan)\n",
    "plt.xticks(rotation=90)\n",
    "plt.show()"
   ]
  },
  {
   "cell_type": "code",
   "execution_count": null,
   "id": "29e00e91",
   "metadata": {
    "colab": {
     "base_uri": "https://localhost:8080/",
     "height": 849
    },
    "id": "Z2VLzbfDIxNE",
    "outputId": "92f5d585-f87c-433b-df6c-ca2fe6e2e933"
   },
   "outputs": [],
   "source": [
    "df[df['nome'].isnull()]"
   ]
  },
  {
   "cell_type": "code",
   "execution_count": null,
   "id": "03dfd4af",
   "metadata": {
    "id": "NySbEdQAIxTk"
   },
   "outputs": [],
   "source": [
    "df = df.dropna(axis=0,subset=['nome','host_name'])"
   ]
  },
  {
   "cell_type": "code",
   "execution_count": null,
   "id": "e9d68c1a",
   "metadata": {
    "colab": {
     "base_uri": "https://localhost:8080/"
    },
    "id": "b2PlZhTuIxb1",
    "outputId": "a88206c2-8f6e-415b-c2c9-86e0694bbeb4"
   },
   "outputs": [],
   "source": [
    "percent_nan = percent_missing(df)\n",
    "percent_nan"
   ]
  },
  {
   "cell_type": "code",
   "execution_count": null,
   "id": "e6c05d46",
   "metadata": {
    "colab": {
     "base_uri": "https://localhost:8080/",
     "height": 808
    },
    "id": "bQ4jt-35Jjzy",
    "outputId": "bf1807fd-01a4-4455-b056-38b27f6d01be"
   },
   "outputs": [],
   "source": [
    "df[df['ultima_review'].isnull()]"
   ]
  },
  {
   "cell_type": "code",
   "execution_count": null,
   "id": "ca0d2602",
   "metadata": {
    "id": "-sELOBx8Jj5U"
   },
   "outputs": [],
   "source": [
    "df['ultima_review'] = df['ultima_review'].fillna(\"1970-01-01\")\n",
    "df['reviews_por_mes'] = df['reviews_por_mes'].fillna(0)"
   ]
  },
  {
   "cell_type": "code",
   "execution_count": null,
   "id": "5e5edf43",
   "metadata": {
    "colab": {
     "base_uri": "https://localhost:8080/"
    },
    "id": "yYo0zteBKS_k",
    "outputId": "509bafd9-7bd9-4d09-84ed-bb5215308f2a"
   },
   "outputs": [],
   "source": [
    "percent_nan = percent_missing(df)\n",
    "percent_nan"
   ]
  },
  {
   "cell_type": "code",
   "execution_count": null,
   "id": "f106ab1f",
   "metadata": {
    "colab": {
     "base_uri": "https://localhost:8080/"
    },
    "id": "kwot4IGriswW",
    "outputId": "2198f0a6-49e5-4474-829e-872030484212"
   },
   "outputs": [],
   "source": [
    "df[df['price']==0].info()"
   ]
  },
  {
   "cell_type": "markdown",
   "id": "f7c520b8",
   "metadata": {
    "id": "yAjjHfOyLVo-"
   },
   "source": [
    "Excluindo entradas onde o valor é zero"
   ]
  },
  {
   "cell_type": "code",
   "execution_count": null,
   "id": "9b9bc644",
   "metadata": {
    "id": "UAOq6i4JLVYC"
   },
   "outputs": [],
   "source": [
    "df = df[df['price'] != 0]"
   ]
  },
  {
   "cell_type": "code",
   "execution_count": null,
   "id": "0509cdce",
   "metadata": {},
   "outputs": [],
   "source": [
    "df[df['price']==0].info()"
   ]
  },
  {
   "cell_type": "markdown",
   "id": "79ab9254",
   "metadata": {
    "id": "MajpwG0ybOn6"
   },
   "source": [
    "## Existe algum padrão no texto do nome do local para lugares de mais alto valor?"
   ]
  },
  {
   "cell_type": "code",
   "execution_count": null,
   "id": "51f8ca9d",
   "metadata": {
    "colab": {
     "base_uri": "https://localhost:8080/",
     "height": 424
    },
    "id": "ydC_upwF0d8G",
    "outputId": "40049a6b-5f58-4245-ee70-f151c2e957f5"
   },
   "outputs": [],
   "source": [
    "df_texto = df[['nome','price']].sort_values('price',ascending= False )\n",
    "df_texto"
   ]
  },
  {
   "cell_type": "code",
   "execution_count": null,
   "id": "0f398430",
   "metadata": {
    "colab": {
     "base_uri": "https://localhost:8080/"
    },
    "id": "r8Y2YRrm0d-i",
    "outputId": "af5b3b22-ef59-431e-f18c-1d272769b844"
   },
   "outputs": [],
   "source": [
    "from sklearn.feature_extraction.text import TfidfVectorizer\n",
    "import nltk\n",
    "from nltk.corpus import stopwords\n",
    "from nltk.tokenize import word_tokenize\n",
    "from nltk.stem import WordNetLemmatizer\n",
    "nltk.download('punkt')\n",
    "nltk.download('stopwords')\n",
    "nltk.download('wordnet')\n",
    "nltk.download('omw-1.4')"
   ]
  },
  {
   "cell_type": "code",
   "execution_count": null,
   "id": "3e79ac38",
   "metadata": {
    "id": "st9pQhQn0eA1"
   },
   "outputs": [],
   "source": [
    "def preprocess_text(text):\n",
    "    # Tokenization\n",
    "    tokens = word_tokenize(text)\n",
    "    # Remove stopwords\n",
    "    stop_words = set(stopwords.words('english'))\n",
    "    tokens = [word for word in tokens if word.lower() not in stop_words]\n",
    "    # Lemmatization\n",
    "    lemmatizer = WordNetLemmatizer()\n",
    "    tokens = [lemmatizer.lemmatize(word) for word in tokens]\n",
    "\n",
    "    return ' '.join(tokens)"
   ]
  },
  {
   "cell_type": "code",
   "execution_count": null,
   "id": "33e2ca3b",
   "metadata": {
    "id": "B8pMjdO60eEL"
   },
   "outputs": [],
   "source": [
    "df_texto['nome'] = df_texto['nome'].apply(preprocess_text)\n",
    "df_texto['nome']=df_texto['nome'].str.lower()"
   ]
  },
  {
   "cell_type": "code",
   "execution_count": null,
   "id": "df14f1e2",
   "metadata": {},
   "outputs": [],
   "source": [
    "pip install wordcloud"
   ]
  },
  {
   "cell_type": "markdown",
   "id": "b815158c",
   "metadata": {},
   "source": [
    "## No geral temos as seguintes palavras com destaque:"
   ]
  },
  {
   "cell_type": "code",
   "execution_count": null,
   "id": "b628ce2c",
   "metadata": {
    "colab": {
     "base_uri": "https://localhost:8080/",
     "height": 424
    },
    "id": "3To6FIq40eNj",
    "outputId": "7f9a276e-4da7-42df-96ec-c6e522e3ce1c",
    "scrolled": true
   },
   "outputs": [],
   "source": [
    "from wordcloud import WordCloud\n",
    "import matplotlib.pyplot as plt\n",
    "\n",
    "\n",
    "text = ' '.join(df_texto['nome'])\n",
    "\n",
    "wordcloud = WordCloud(width=800, height=400, background_color='white').generate(text)\n",
    "\n",
    "plt.figure(figsize=(10, 8))\n",
    "plt.imshow(wordcloud, interpolation='bilinear')\n",
    "plt.axis('off')\n",
    "plt.show()"
   ]
  },
  {
   "cell_type": "code",
   "execution_count": null,
   "id": "3c46e22b",
   "metadata": {
    "id": "x0DfOumWisyx"
   },
   "outputs": [],
   "source": [
    "df_texto_top500 = df_texto.head(500)"
   ]
  },
  {
   "cell_type": "markdown",
   "id": "f301191c",
   "metadata": {},
   "source": [
    "## Foi selecionado os 500 locais de maior valor, assim temos as seguintes palavras com maior destaque:"
   ]
  },
  {
   "cell_type": "code",
   "execution_count": null,
   "id": "e2adcef2",
   "metadata": {
    "colab": {
     "base_uri": "https://localhost:8080/",
     "height": 424
    },
    "id": "TtsipgQFis1F",
    "outputId": "06143325-b5cc-4394-f04a-a7eda35e50de"
   },
   "outputs": [],
   "source": [
    "from wordcloud import WordCloud\n",
    "import matplotlib.pyplot as plt\n",
    "\n",
    "text = ' '.join(df_texto_top500['nome'])\n",
    "\n",
    "wordcloud = WordCloud(width=800, height=400, background_color='white').generate(text)\n",
    "\n",
    "plt.figure(figsize=(10, 8))\n",
    "plt.imshow(wordcloud, interpolation='bilinear')\n",
    "plt.axis('off')\n",
    "plt.show()"
   ]
  },
  {
   "cell_type": "markdown",
   "id": "dd0e92f3",
   "metadata": {},
   "source": [
    "# Explique como você faria a previsão do preço a partir dos dados. Quais variáveis e/ou suas transformações você utilizou e por quê? Qual tipo de problema estamos resolvendo (regressão, classificação)? Qual modelo melhor se aproxima dos dados e quais seus prós e contras? Qual medida de performance do modelo foi escolhida e por quê?\n",
    "\n",
    "Nas partes acima ja foi feita a correção de dados faltantes, abaixo os dados serão manipulados para o treinamento do modelo de regressão que possibilitará fazer uma previsão dos preços de acordo com as caracteristicas. "
   ]
  },
  {
   "cell_type": "markdown",
   "id": "27cafa52",
   "metadata": {
    "id": "MSKzFHbRfTYb"
   },
   "source": [
    "## Ajustando valores numéricos e de texto"
   ]
  },
  {
   "cell_type": "code",
   "execution_count": null,
   "id": "aeb57e33",
   "metadata": {
    "id": "hTTdpY76M0XA"
   },
   "outputs": [],
   "source": [
    "df['ultima_review'] = pd.to_datetime(df['ultima_review']).astype(np.int64)"
   ]
  },
  {
   "cell_type": "code",
   "execution_count": 85,
   "id": "30524db3",
   "metadata": {
    "id": "kODHWV3sJj_H"
   },
   "outputs": [],
   "source": [
    "object_df = df.select_dtypes(include='object')"
   ]
  },
  {
   "cell_type": "code",
   "execution_count": 86,
   "id": "35b0ac1c",
   "metadata": {
    "colab": {
     "base_uri": "https://localhost:8080/"
    },
    "id": "i0x0NdwpO5Um",
    "outputId": "a680d979-8613-40bc-d9b2-4a0e64dad4c7"
   },
   "outputs": [
    {
     "data": {
      "text/plain": [
       "Index(['nome', 'host_name', 'bairro_group', 'bairro', 'room_type'], dtype='object')"
      ]
     },
     "execution_count": 86,
     "metadata": {},
     "output_type": "execute_result"
    }
   ],
   "source": [
    "object_df.columns"
   ]
  },
  {
   "cell_type": "code",
   "execution_count": 87,
   "id": "52221f65",
   "metadata": {
    "id": "7GPJGEVuP7ke"
   },
   "outputs": [],
   "source": [
    "object_df = object_df.drop( ['nome','host_name'],axis = 1)"
   ]
  },
  {
   "cell_type": "code",
   "execution_count": 88,
   "id": "ff212117",
   "metadata": {
    "id": "BpksDCWaJkFM"
   },
   "outputs": [],
   "source": [
    "numeric_df = df.select_dtypes(exclude='object')"
   ]
  },
  {
   "cell_type": "code",
   "execution_count": 89,
   "id": "8f7e9d43",
   "metadata": {
    "id": "3amdUGLjOs_G"
   },
   "outputs": [],
   "source": [
    "df_objects_dummies = pd.get_dummies(object_df,drop_first=True)"
   ]
  },
  {
   "cell_type": "code",
   "execution_count": 90,
   "id": "c067bb5b",
   "metadata": {
    "id": "uvP0hYEVOtEu"
   },
   "outputs": [],
   "source": [
    "final_df = pd.concat([numeric_df,df_objects_dummies], axis=1)"
   ]
  },
  {
   "cell_type": "code",
   "execution_count": 91,
   "id": "fadcef5d",
   "metadata": {
    "colab": {
     "base_uri": "https://localhost:8080/",
     "height": 273
    },
    "id": "zCE206opOzbt",
    "outputId": "1fc8503e-8ba6-4394-cedc-038f68e53ac9"
   },
   "outputs": [
    {
     "data": {
      "text/html": [
       "<div>\n",
       "<style scoped>\n",
       "    .dataframe tbody tr th:only-of-type {\n",
       "        vertical-align: middle;\n",
       "    }\n",
       "\n",
       "    .dataframe tbody tr th {\n",
       "        vertical-align: top;\n",
       "    }\n",
       "\n",
       "    .dataframe thead th {\n",
       "        text-align: right;\n",
       "    }\n",
       "</style>\n",
       "<table border=\"1\" class=\"dataframe\">\n",
       "  <thead>\n",
       "    <tr style=\"text-align: right;\">\n",
       "      <th></th>\n",
       "      <th>id</th>\n",
       "      <th>host_id</th>\n",
       "      <th>latitude</th>\n",
       "      <th>longitude</th>\n",
       "      <th>price</th>\n",
       "      <th>minimo_noites</th>\n",
       "      <th>numero_de_reviews</th>\n",
       "      <th>ultima_review</th>\n",
       "      <th>reviews_por_mes</th>\n",
       "      <th>calculado_host_listings_count</th>\n",
       "      <th>...</th>\n",
       "      <th>bairro_Williamsbridge</th>\n",
       "      <th>bairro_Williamsburg</th>\n",
       "      <th>bairro_Willowbrook</th>\n",
       "      <th>bairro_Windsor Terrace</th>\n",
       "      <th>bairro_Woodhaven</th>\n",
       "      <th>bairro_Woodlawn</th>\n",
       "      <th>bairro_Woodrow</th>\n",
       "      <th>bairro_Woodside</th>\n",
       "      <th>room_type_Private room</th>\n",
       "      <th>room_type_Shared room</th>\n",
       "    </tr>\n",
       "  </thead>\n",
       "  <tbody>\n",
       "    <tr>\n",
       "      <th>0</th>\n",
       "      <td>2595</td>\n",
       "      <td>2845</td>\n",
       "      <td>40.75362</td>\n",
       "      <td>-73.98377</td>\n",
       "      <td>225</td>\n",
       "      <td>1</td>\n",
       "      <td>45</td>\n",
       "      <td>1558396800000000000</td>\n",
       "      <td>0.38</td>\n",
       "      <td>2</td>\n",
       "      <td>...</td>\n",
       "      <td>0</td>\n",
       "      <td>0</td>\n",
       "      <td>0</td>\n",
       "      <td>0</td>\n",
       "      <td>0</td>\n",
       "      <td>0</td>\n",
       "      <td>0</td>\n",
       "      <td>0</td>\n",
       "      <td>0</td>\n",
       "      <td>0</td>\n",
       "    </tr>\n",
       "    <tr>\n",
       "      <th>1</th>\n",
       "      <td>3647</td>\n",
       "      <td>4632</td>\n",
       "      <td>40.80902</td>\n",
       "      <td>-73.94190</td>\n",
       "      <td>150</td>\n",
       "      <td>3</td>\n",
       "      <td>0</td>\n",
       "      <td>0</td>\n",
       "      <td>0.00</td>\n",
       "      <td>1</td>\n",
       "      <td>...</td>\n",
       "      <td>0</td>\n",
       "      <td>0</td>\n",
       "      <td>0</td>\n",
       "      <td>0</td>\n",
       "      <td>0</td>\n",
       "      <td>0</td>\n",
       "      <td>0</td>\n",
       "      <td>0</td>\n",
       "      <td>1</td>\n",
       "      <td>0</td>\n",
       "    </tr>\n",
       "    <tr>\n",
       "      <th>2</th>\n",
       "      <td>3831</td>\n",
       "      <td>4869</td>\n",
       "      <td>40.68514</td>\n",
       "      <td>-73.95976</td>\n",
       "      <td>89</td>\n",
       "      <td>1</td>\n",
       "      <td>270</td>\n",
       "      <td>1562284800000000000</td>\n",
       "      <td>4.64</td>\n",
       "      <td>1</td>\n",
       "      <td>...</td>\n",
       "      <td>0</td>\n",
       "      <td>0</td>\n",
       "      <td>0</td>\n",
       "      <td>0</td>\n",
       "      <td>0</td>\n",
       "      <td>0</td>\n",
       "      <td>0</td>\n",
       "      <td>0</td>\n",
       "      <td>0</td>\n",
       "      <td>0</td>\n",
       "    </tr>\n",
       "    <tr>\n",
       "      <th>3</th>\n",
       "      <td>5022</td>\n",
       "      <td>7192</td>\n",
       "      <td>40.79851</td>\n",
       "      <td>-73.94399</td>\n",
       "      <td>80</td>\n",
       "      <td>10</td>\n",
       "      <td>9</td>\n",
       "      <td>1542585600000000000</td>\n",
       "      <td>0.10</td>\n",
       "      <td>1</td>\n",
       "      <td>...</td>\n",
       "      <td>0</td>\n",
       "      <td>0</td>\n",
       "      <td>0</td>\n",
       "      <td>0</td>\n",
       "      <td>0</td>\n",
       "      <td>0</td>\n",
       "      <td>0</td>\n",
       "      <td>0</td>\n",
       "      <td>0</td>\n",
       "      <td>0</td>\n",
       "    </tr>\n",
       "    <tr>\n",
       "      <th>4</th>\n",
       "      <td>5099</td>\n",
       "      <td>7322</td>\n",
       "      <td>40.74767</td>\n",
       "      <td>-73.97500</td>\n",
       "      <td>200</td>\n",
       "      <td>3</td>\n",
       "      <td>74</td>\n",
       "      <td>1561161600000000000</td>\n",
       "      <td>0.59</td>\n",
       "      <td>1</td>\n",
       "      <td>...</td>\n",
       "      <td>0</td>\n",
       "      <td>0</td>\n",
       "      <td>0</td>\n",
       "      <td>0</td>\n",
       "      <td>0</td>\n",
       "      <td>0</td>\n",
       "      <td>0</td>\n",
       "      <td>0</td>\n",
       "      <td>0</td>\n",
       "      <td>0</td>\n",
       "    </tr>\n",
       "  </tbody>\n",
       "</table>\n",
       "<p>5 rows × 237 columns</p>\n",
       "</div>"
      ],
      "text/plain": [
       "     id  host_id  latitude  longitude  price  minimo_noites  \\\n",
       "0  2595     2845  40.75362  -73.98377    225              1   \n",
       "1  3647     4632  40.80902  -73.94190    150              3   \n",
       "2  3831     4869  40.68514  -73.95976     89              1   \n",
       "3  5022     7192  40.79851  -73.94399     80             10   \n",
       "4  5099     7322  40.74767  -73.97500    200              3   \n",
       "\n",
       "   numero_de_reviews        ultima_review  reviews_por_mes  \\\n",
       "0                 45  1558396800000000000             0.38   \n",
       "1                  0                    0             0.00   \n",
       "2                270  1562284800000000000             4.64   \n",
       "3                  9  1542585600000000000             0.10   \n",
       "4                 74  1561161600000000000             0.59   \n",
       "\n",
       "   calculado_host_listings_count  ...  bairro_Williamsbridge  \\\n",
       "0                              2  ...                      0   \n",
       "1                              1  ...                      0   \n",
       "2                              1  ...                      0   \n",
       "3                              1  ...                      0   \n",
       "4                              1  ...                      0   \n",
       "\n",
       "   bairro_Williamsburg  bairro_Willowbrook  bairro_Windsor Terrace  \\\n",
       "0                    0                   0                       0   \n",
       "1                    0                   0                       0   \n",
       "2                    0                   0                       0   \n",
       "3                    0                   0                       0   \n",
       "4                    0                   0                       0   \n",
       "\n",
       "   bairro_Woodhaven  bairro_Woodlawn  bairro_Woodrow  bairro_Woodside  \\\n",
       "0                 0                0               0                0   \n",
       "1                 0                0               0                0   \n",
       "2                 0                0               0                0   \n",
       "3                 0                0               0                0   \n",
       "4                 0                0               0                0   \n",
       "\n",
       "   room_type_Private room  room_type_Shared room  \n",
       "0                       0                      0  \n",
       "1                       1                      0  \n",
       "2                       0                      0  \n",
       "3                       0                      0  \n",
       "4                       0                      0  \n",
       "\n",
       "[5 rows x 237 columns]"
      ]
     },
     "execution_count": 91,
     "metadata": {},
     "output_type": "execute_result"
    }
   ],
   "source": [
    "final_df.head()"
   ]
  },
  {
   "cell_type": "code",
   "execution_count": 92,
   "id": "64a6abc3",
   "metadata": {
    "id": "Mgy4CzXFO8_i"
   },
   "outputs": [],
   "source": [
    "corr = final_df.corr()['ultima_review'].abs().sort_values()"
   ]
  },
  {
   "cell_type": "code",
   "execution_count": 93,
   "id": "ae0f2dac",
   "metadata": {
    "id": "4rHhTZGJTzmn",
    "scrolled": false
   },
   "outputs": [
    {
     "data": {
      "text/plain": [
       "bairro_Tribeca                   0.026207\n",
       "bairro_Battery Park City         0.026222\n",
       "latitude                         0.030187\n",
       "bairro_Financial District        0.033215\n",
       "bairro_Murray Hill               0.037862\n",
       "bairro_Bedford-Stuyvesant        0.037937\n",
       "disponibilidade_365              0.045402\n",
       "bairro_group_Brooklyn            0.048107\n",
       "longitude                        0.048253\n",
       "bairro_Theater District          0.053175\n",
       "bairro_group_Manhattan           0.061260\n",
       "bairro_Midtown                   0.070048\n",
       "host_id                          0.072675\n",
       "price                            0.085691\n",
       "minimo_noites                    0.114278\n",
       "calculado_host_listings_count    0.116241\n",
       "id                               0.146588\n",
       "numero_de_reviews                0.279234\n",
       "reviews_por_mes                  0.368100\n",
       "ultima_review                    1.000000\n",
       "Name: ultima_review, dtype: float64"
      ]
     },
     "execution_count": 93,
     "metadata": {},
     "output_type": "execute_result"
    }
   ],
   "source": [
    "corr.tail(20)"
   ]
  },
  {
   "cell_type": "markdown",
   "id": "bc8e76c5",
   "metadata": {},
   "source": [
    "## O dataframe preparado para as predições:"
   ]
  },
  {
   "cell_type": "code",
   "execution_count": 94,
   "id": "584aa6c4",
   "metadata": {
    "colab": {
     "base_uri": "https://localhost:8080/",
     "height": 367
    },
    "id": "bhPX0rVbUTmq",
    "outputId": "f6777647-03e3-4f0d-9b51-d818e8e7991b",
    "scrolled": false
   },
   "outputs": [
    {
     "data": {
      "text/html": [
       "<div>\n",
       "<style scoped>\n",
       "    .dataframe tbody tr th:only-of-type {\n",
       "        vertical-align: middle;\n",
       "    }\n",
       "\n",
       "    .dataframe tbody tr th {\n",
       "        vertical-align: top;\n",
       "    }\n",
       "\n",
       "    .dataframe thead th {\n",
       "        text-align: right;\n",
       "    }\n",
       "</style>\n",
       "<table border=\"1\" class=\"dataframe\">\n",
       "  <thead>\n",
       "    <tr style=\"text-align: right;\">\n",
       "      <th></th>\n",
       "      <th>id</th>\n",
       "      <th>host_id</th>\n",
       "      <th>latitude</th>\n",
       "      <th>longitude</th>\n",
       "      <th>price</th>\n",
       "      <th>minimo_noites</th>\n",
       "      <th>numero_de_reviews</th>\n",
       "      <th>ultima_review</th>\n",
       "      <th>reviews_por_mes</th>\n",
       "      <th>calculado_host_listings_count</th>\n",
       "      <th>...</th>\n",
       "      <th>bairro_Williamsbridge</th>\n",
       "      <th>bairro_Williamsburg</th>\n",
       "      <th>bairro_Willowbrook</th>\n",
       "      <th>bairro_Windsor Terrace</th>\n",
       "      <th>bairro_Woodhaven</th>\n",
       "      <th>bairro_Woodlawn</th>\n",
       "      <th>bairro_Woodrow</th>\n",
       "      <th>bairro_Woodside</th>\n",
       "      <th>room_type_Private room</th>\n",
       "      <th>room_type_Shared room</th>\n",
       "    </tr>\n",
       "  </thead>\n",
       "  <tbody>\n",
       "    <tr>\n",
       "      <th>count</th>\n",
       "      <td>4.884600e+04</td>\n",
       "      <td>4.884600e+04</td>\n",
       "      <td>48846.000000</td>\n",
       "      <td>48846.000000</td>\n",
       "      <td>48846.000000</td>\n",
       "      <td>48846.000000</td>\n",
       "      <td>48846.000000</td>\n",
       "      <td>4.884600e+04</td>\n",
       "      <td>48846.000000</td>\n",
       "      <td>48846.000000</td>\n",
       "      <td>...</td>\n",
       "      <td>48846.000000</td>\n",
       "      <td>48846.000000</td>\n",
       "      <td>48846.000000</td>\n",
       "      <td>48846.000000</td>\n",
       "      <td>48846.000000</td>\n",
       "      <td>48846.000000</td>\n",
       "      <td>48846.000000</td>\n",
       "      <td>48846.000000</td>\n",
       "      <td>48846.000000</td>\n",
       "      <td>48846.000000</td>\n",
       "    </tr>\n",
       "    <tr>\n",
       "      <th>mean</th>\n",
       "      <td>1.902339e+07</td>\n",
       "      <td>6.763510e+07</td>\n",
       "      <td>40.728947</td>\n",
       "      <td>-73.952176</td>\n",
       "      <td>152.774782</td>\n",
       "      <td>7.012488</td>\n",
       "      <td>23.270913</td>\n",
       "      <td>1.222505e+18</td>\n",
       "      <td>1.091032</td>\n",
       "      <td>7.149040</td>\n",
       "      <td>...</td>\n",
       "      <td>0.000819</td>\n",
       "      <td>0.080170</td>\n",
       "      <td>0.000020</td>\n",
       "      <td>0.003214</td>\n",
       "      <td>0.001802</td>\n",
       "      <td>0.000225</td>\n",
       "      <td>0.000020</td>\n",
       "      <td>0.004811</td>\n",
       "      <td>0.456496</td>\n",
       "      <td>0.023687</td>\n",
       "    </tr>\n",
       "    <tr>\n",
       "      <th>std</th>\n",
       "      <td>1.098388e+07</td>\n",
       "      <td>7.862980e+07</td>\n",
       "      <td>0.054529</td>\n",
       "      <td>0.046162</td>\n",
       "      <td>240.250956</td>\n",
       "      <td>20.021549</td>\n",
       "      <td>44.551056</td>\n",
       "      <td>6.224910e+17</td>\n",
       "      <td>1.597211</td>\n",
       "      <td>32.968608</td>\n",
       "      <td>...</td>\n",
       "      <td>0.028605</td>\n",
       "      <td>0.271559</td>\n",
       "      <td>0.004525</td>\n",
       "      <td>0.056603</td>\n",
       "      <td>0.042407</td>\n",
       "      <td>0.015005</td>\n",
       "      <td>0.004525</td>\n",
       "      <td>0.069195</td>\n",
       "      <td>0.498109</td>\n",
       "      <td>0.152073</td>\n",
       "    </tr>\n",
       "    <tr>\n",
       "      <th>min</th>\n",
       "      <td>2.595000e+03</td>\n",
       "      <td>2.438000e+03</td>\n",
       "      <td>40.499790</td>\n",
       "      <td>-74.244420</td>\n",
       "      <td>10.000000</td>\n",
       "      <td>1.000000</td>\n",
       "      <td>0.000000</td>\n",
       "      <td>0.000000e+00</td>\n",
       "      <td>0.000000</td>\n",
       "      <td>1.000000</td>\n",
       "      <td>...</td>\n",
       "      <td>0.000000</td>\n",
       "      <td>0.000000</td>\n",
       "      <td>0.000000</td>\n",
       "      <td>0.000000</td>\n",
       "      <td>0.000000</td>\n",
       "      <td>0.000000</td>\n",
       "      <td>0.000000</td>\n",
       "      <td>0.000000</td>\n",
       "      <td>0.000000</td>\n",
       "      <td>0.000000</td>\n",
       "    </tr>\n",
       "    <tr>\n",
       "      <th>25%</th>\n",
       "      <td>9.475226e+06</td>\n",
       "      <td>7.816403e+06</td>\n",
       "      <td>40.690090</td>\n",
       "      <td>-73.983080</td>\n",
       "      <td>69.000000</td>\n",
       "      <td>1.000000</td>\n",
       "      <td>1.000000</td>\n",
       "      <td>1.458950e+18</td>\n",
       "      <td>0.040000</td>\n",
       "      <td>1.000000</td>\n",
       "      <td>...</td>\n",
       "      <td>0.000000</td>\n",
       "      <td>0.000000</td>\n",
       "      <td>0.000000</td>\n",
       "      <td>0.000000</td>\n",
       "      <td>0.000000</td>\n",
       "      <td>0.000000</td>\n",
       "      <td>0.000000</td>\n",
       "      <td>0.000000</td>\n",
       "      <td>0.000000</td>\n",
       "      <td>0.000000</td>\n",
       "    </tr>\n",
       "    <tr>\n",
       "      <th>50%</th>\n",
       "      <td>1.968422e+07</td>\n",
       "      <td>3.079133e+07</td>\n",
       "      <td>40.723080</td>\n",
       "      <td>-73.955690</td>\n",
       "      <td>106.000000</td>\n",
       "      <td>3.000000</td>\n",
       "      <td>5.000000</td>\n",
       "      <td>1.546474e+18</td>\n",
       "      <td>0.370000</td>\n",
       "      <td>1.000000</td>\n",
       "      <td>...</td>\n",
       "      <td>0.000000</td>\n",
       "      <td>0.000000</td>\n",
       "      <td>0.000000</td>\n",
       "      <td>0.000000</td>\n",
       "      <td>0.000000</td>\n",
       "      <td>0.000000</td>\n",
       "      <td>0.000000</td>\n",
       "      <td>0.000000</td>\n",
       "      <td>0.000000</td>\n",
       "      <td>0.000000</td>\n",
       "    </tr>\n",
       "    <tr>\n",
       "      <th>75%</th>\n",
       "      <td>2.915840e+07</td>\n",
       "      <td>1.074344e+08</td>\n",
       "      <td>40.763110</td>\n",
       "      <td>-73.936293</td>\n",
       "      <td>175.000000</td>\n",
       "      <td>5.000000</td>\n",
       "      <td>24.000000</td>\n",
       "      <td>1.560902e+18</td>\n",
       "      <td>1.580000</td>\n",
       "      <td>2.000000</td>\n",
       "      <td>...</td>\n",
       "      <td>0.000000</td>\n",
       "      <td>0.000000</td>\n",
       "      <td>0.000000</td>\n",
       "      <td>0.000000</td>\n",
       "      <td>0.000000</td>\n",
       "      <td>0.000000</td>\n",
       "      <td>0.000000</td>\n",
       "      <td>0.000000</td>\n",
       "      <td>1.000000</td>\n",
       "      <td>0.000000</td>\n",
       "    </tr>\n",
       "    <tr>\n",
       "      <th>max</th>\n",
       "      <td>3.648724e+07</td>\n",
       "      <td>2.743213e+08</td>\n",
       "      <td>40.913060</td>\n",
       "      <td>-73.712990</td>\n",
       "      <td>10000.000000</td>\n",
       "      <td>1250.000000</td>\n",
       "      <td>629.000000</td>\n",
       "      <td>1.562544e+18</td>\n",
       "      <td>58.500000</td>\n",
       "      <td>327.000000</td>\n",
       "      <td>...</td>\n",
       "      <td>1.000000</td>\n",
       "      <td>1.000000</td>\n",
       "      <td>1.000000</td>\n",
       "      <td>1.000000</td>\n",
       "      <td>1.000000</td>\n",
       "      <td>1.000000</td>\n",
       "      <td>1.000000</td>\n",
       "      <td>1.000000</td>\n",
       "      <td>1.000000</td>\n",
       "      <td>1.000000</td>\n",
       "    </tr>\n",
       "  </tbody>\n",
       "</table>\n",
       "<p>8 rows × 237 columns</p>\n",
       "</div>"
      ],
      "text/plain": [
       "                 id       host_id      latitude     longitude         price  \\\n",
       "count  4.884600e+04  4.884600e+04  48846.000000  48846.000000  48846.000000   \n",
       "mean   1.902339e+07  6.763510e+07     40.728947    -73.952176    152.774782   \n",
       "std    1.098388e+07  7.862980e+07      0.054529      0.046162    240.250956   \n",
       "min    2.595000e+03  2.438000e+03     40.499790    -74.244420     10.000000   \n",
       "25%    9.475226e+06  7.816403e+06     40.690090    -73.983080     69.000000   \n",
       "50%    1.968422e+07  3.079133e+07     40.723080    -73.955690    106.000000   \n",
       "75%    2.915840e+07  1.074344e+08     40.763110    -73.936293    175.000000   \n",
       "max    3.648724e+07  2.743213e+08     40.913060    -73.712990  10000.000000   \n",
       "\n",
       "       minimo_noites  numero_de_reviews  ultima_review  reviews_por_mes  \\\n",
       "count   48846.000000       48846.000000   4.884600e+04     48846.000000   \n",
       "mean        7.012488          23.270913   1.222505e+18         1.091032   \n",
       "std        20.021549          44.551056   6.224910e+17         1.597211   \n",
       "min         1.000000           0.000000   0.000000e+00         0.000000   \n",
       "25%         1.000000           1.000000   1.458950e+18         0.040000   \n",
       "50%         3.000000           5.000000   1.546474e+18         0.370000   \n",
       "75%         5.000000          24.000000   1.560902e+18         1.580000   \n",
       "max      1250.000000         629.000000   1.562544e+18        58.500000   \n",
       "\n",
       "       calculado_host_listings_count  ...  bairro_Williamsbridge  \\\n",
       "count                   48846.000000  ...           48846.000000   \n",
       "mean                        7.149040  ...               0.000819   \n",
       "std                        32.968608  ...               0.028605   \n",
       "min                         1.000000  ...               0.000000   \n",
       "25%                         1.000000  ...               0.000000   \n",
       "50%                         1.000000  ...               0.000000   \n",
       "75%                         2.000000  ...               0.000000   \n",
       "max                       327.000000  ...               1.000000   \n",
       "\n",
       "       bairro_Williamsburg  bairro_Willowbrook  bairro_Windsor Terrace  \\\n",
       "count         48846.000000        48846.000000            48846.000000   \n",
       "mean              0.080170            0.000020                0.003214   \n",
       "std               0.271559            0.004525                0.056603   \n",
       "min               0.000000            0.000000                0.000000   \n",
       "25%               0.000000            0.000000                0.000000   \n",
       "50%               0.000000            0.000000                0.000000   \n",
       "75%               0.000000            0.000000                0.000000   \n",
       "max               1.000000            1.000000                1.000000   \n",
       "\n",
       "       bairro_Woodhaven  bairro_Woodlawn  bairro_Woodrow  bairro_Woodside  \\\n",
       "count      48846.000000     48846.000000    48846.000000     48846.000000   \n",
       "mean           0.001802         0.000225        0.000020         0.004811   \n",
       "std            0.042407         0.015005        0.004525         0.069195   \n",
       "min            0.000000         0.000000        0.000000         0.000000   \n",
       "25%            0.000000         0.000000        0.000000         0.000000   \n",
       "50%            0.000000         0.000000        0.000000         0.000000   \n",
       "75%            0.000000         0.000000        0.000000         0.000000   \n",
       "max            1.000000         1.000000        1.000000         1.000000   \n",
       "\n",
       "       room_type_Private room  room_type_Shared room  \n",
       "count            48846.000000           48846.000000  \n",
       "mean                 0.456496               0.023687  \n",
       "std                  0.498109               0.152073  \n",
       "min                  0.000000               0.000000  \n",
       "25%                  0.000000               0.000000  \n",
       "50%                  0.000000               0.000000  \n",
       "75%                  1.000000               0.000000  \n",
       "max                  1.000000               1.000000  \n",
       "\n",
       "[8 rows x 237 columns]"
      ]
     },
     "execution_count": 94,
     "metadata": {},
     "output_type": "execute_result"
    }
   ],
   "source": [
    "final_df.describe()"
   ]
  },
  {
   "cell_type": "markdown",
   "id": "1ed4397c",
   "metadata": {},
   "source": [
    "# Predições"
   ]
  },
  {
   "cell_type": "markdown",
   "id": "08b01503",
   "metadata": {},
   "source": [
    "Podemos eliminar a coluna 'ultima review' pela correlaçao com preço ser baixa e com pouca interpretabilidade pelo modelo. Colunas como 'nome' e 'host' também não acrescentam na capacidade de previsão do modelo"
   ]
  },
  {
   "cell_type": "code",
   "execution_count": 95,
   "id": "f6b78bc5",
   "metadata": {},
   "outputs": [],
   "source": [
    "X = final_df.drop('price',axis=1)\n",
    "X = final_df.drop(['ultima_review'],axis=1)\n",
    "y = final_df.price"
   ]
  },
  {
   "cell_type": "code",
   "execution_count": 96,
   "id": "f78cfd6c",
   "metadata": {},
   "outputs": [],
   "source": [
    "from sklearn.model_selection import train_test_split\n",
    "X_train, X_test, y_train, y_test = train_test_split(X, y, test_size=0.2, random_state=101)"
   ]
  },
  {
   "cell_type": "code",
   "execution_count": 97,
   "id": "e255ba5a",
   "metadata": {},
   "outputs": [],
   "source": [
    "from sklearn.preprocessing import StandardScaler\n",
    "\n",
    "scaler = StandardScaler()\n",
    "X_train_Scaled = scaler.fit(X_train)\n",
    "X_train_Scaled = scaler.transform(X_train)\n",
    "X_test_Scaled = scaler.transform(X_test)"
   ]
  },
  {
   "cell_type": "markdown",
   "id": "a442a816",
   "metadata": {},
   "source": [
    "### A seguir são testados modelos variados para verificar sua performance inicial. Utiliza-se o MAE pela fácil interpretabilidade do seu resultado em relação à preços e pela robustez em relação à outliers, como imóveis com valores muito altos ou baixos."
   ]
  },
  {
   "cell_type": "code",
   "execution_count": 98,
   "id": "453e7963",
   "metadata": {},
   "outputs": [
    {
     "name": "stdout",
     "output_type": "stream",
     "text": [
      "RF accuracy:  -0.297029 (0.172031)\n",
      "Ada accuracy:  -0.187790 (0.129547)\n",
      "SVR accuracy:  -54.786999 (1.759687)\n",
      "HXG accuracy:  -7.656749 (2.002133)\n",
      "XG accuracy:  -0.961291 (0.104296)\n",
      "MLP accuracy:  -2.272451 (0.531302)\n",
      "KNN accuracy:  -36.281570 (0.569616)\n"
     ]
    }
   ],
   "source": [
    "from sklearn.model_selection import train_test_split,cross_val_score,KFold\n",
    "from sklearn.tree import DecisionTreeRegressor\n",
    "\n",
    "from sklearn.svm import SVR\n",
    "from sklearn.ensemble import HistGradientBoostingRegressor,GradientBoostingRegressor,AdaBoostRegressor,RandomForestRegressor\n",
    "from sklearn.linear_model import LogisticRegression\n",
    "from sklearn.neural_network import MLPRegressor\n",
    "from sklearn.neighbors import KNeighborsRegressor\n",
    "import warnings\n",
    "warnings.filterwarnings('ignore')\n",
    "\n",
    "models = []\n",
    "models.append(('RF', RandomForestRegressor()))\n",
    "models.append(('Ada', AdaBoostRegressor(DecisionTreeRegressor())))\n",
    "models.append(('SVR', SVR()))\n",
    "models.append(('HXG', HistGradientBoostingRegressor()))\n",
    "models.append(('XG', GradientBoostingRegressor()))\n",
    "models.append(('MLP', MLPRegressor(max_iter=1000)))\n",
    "models.append(('KNN', KNeighborsRegressor(n_neighbors=1)))\n",
    "\n",
    "num_folds=5\n",
    "results = []\n",
    "names = []\n",
    "kfold = KFold(n_splits=num_folds,random_state=0,shuffle=True)\n",
    "\n",
    "for name, model in models:\n",
    "\n",
    "    cv_results = cross_val_score(model, X_train_Scaled, y_train, cv=kfold, scoring='neg_mean_absolute_error')\n",
    "    results.append(cv_results)\n",
    "    names.append(name)\n",
    "    msg = \"%s accuracy:  %f (%f)\" % (name, cv_results.mean(), cv_results.std())\n",
    "    print(msg)"
   ]
  },
  {
   "cell_type": "markdown",
   "id": "2f689638",
   "metadata": {},
   "source": [
    "### Adaboost foi o modelo que previu com menor MAE, assim seguiremos com a sua implementação."
   ]
  },
  {
   "cell_type": "code",
   "execution_count": 99,
   "id": "b2a32ca5",
   "metadata": {},
   "outputs": [],
   "source": [
    "import numpy as np\n",
    "import pandas as pd\n",
    "from sklearn.ensemble import AdaBoostRegressor\n",
    "from sklearn.tree import DecisionTreeRegressor\n",
    "from sklearn.preprocessing import StandardScaler\n",
    "import joblib\n",
    "import warnings\n",
    "warnings.filterwarnings('ignore')\n",
    "\n",
    "df = pd.read_csv(\"teste_indicium_precificacao.csv\")\n",
    "\n",
    "df['ultima_review'] = pd.to_datetime(df['ultima_review'])\n",
    "\n",
    "df = df.dropna(axis=0, subset=['nome', 'host_name'])\n",
    "df['ultima_review'] = df['ultima_review'].fillna(pd.to_datetime(\"1970-01-01\"))\n",
    "df['reviews_por_mes'] = df['reviews_por_mes'].fillna(0)\n",
    "df = df[df['price'] != 0]\n",
    "\n",
    "object_df = df.select_dtypes(include='object').drop(['nome', 'host_name'], axis=1)\n",
    "df_objects_dummies = pd.get_dummies(object_df, drop_first=True)\n",
    "\n",
    "numeric_df = df.select_dtypes(exclude='object')\n",
    "final_df = pd.concat([numeric_df, df_objects_dummies], axis=1)\n",
    "\n",
    "X = final_df.drop(['price', 'ultima_review'], axis=1)\n",
    "y = final_df['price']\n",
    "\n",
    "model = AdaBoostRegressor(DecisionTreeRegressor())\n",
    "model.fit(X, y)\n",
    "\n",
    "joblib.dump(model, 'model.pkl')\n",
    "\n",
    "# ajustando os dados do apartamento a ser previsto:\n",
    "sample = {\n",
    "    'id': 2595,\n",
    "    'host_id': 2845,\n",
    "    'bairro_group': 'Manhattan',\n",
    "    'bairro': 'Midtown',\n",
    "    'latitude': 40.75362,\n",
    "    'longitude': -73.98377,\n",
    "    'room_type': 'Entire home/apt',\n",
    "    'minimo_noites': 1,\n",
    "    'numero_de_reviews': 45,\n",
    "    'ultima_review': pd.to_datetime('2019-05-21'),\n",
    "    'reviews_por_mes': 0.38,\n",
    "    'calculado_host_listings_count': 2,\n",
    "    'disponibilidade_365': 355\n",
    "}\n",
    "\n",
    "sample_df = pd.DataFrame([sample])\n",
    "\n",
    "sample_df_objects_dummies = pd.get_dummies(sample_df, drop_first=True)\n",
    "\n",
    "expected_columns = set(X.columns)\n",
    "current_columns = set(sample_df_objects_dummies.columns)\n",
    "missing_columns = list(expected_columns - current_columns)\n",
    "for col in missing_columns:\n",
    "    sample_df_objects_dummies[col] = 0\n",
    "\n",
    "sample_df_objects_dummies = sample_df_objects_dummies[X.columns]"
   ]
  },
  {
   "cell_type": "markdown",
   "id": "e12ffd9a",
   "metadata": {},
   "source": [
    "## Qual seria a sua sugestão de preço?"
   ]
  },
  {
   "cell_type": "code",
   "execution_count": 100,
   "id": "0a2567b6",
   "metadata": {},
   "outputs": [
    {
     "name": "stdout",
     "output_type": "stream",
     "text": [
      "Predicted price: 225.0\n"
     ]
    }
   ],
   "source": [
    "predicted_price = model.predict(sample_df_objects_dummies)\n",
    "\n",
    "print(\"Predicted price:\", predicted_price[0])"
   ]
  }
 ],
 "metadata": {
  "kernelspec": {
   "display_name": "Python 3 (ipykernel)",
   "language": "python",
   "name": "python3"
  },
  "language_info": {
   "codemirror_mode": {
    "name": "ipython",
    "version": 3
   },
   "file_extension": ".py",
   "mimetype": "text/x-python",
   "name": "python",
   "nbconvert_exporter": "python",
   "pygments_lexer": "ipython3",
   "version": "3.9.13"
  }
 },
 "nbformat": 4,
 "nbformat_minor": 5
}
